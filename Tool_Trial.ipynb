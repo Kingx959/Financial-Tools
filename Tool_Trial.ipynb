{
 "cells": [
  {
   "cell_type": "code",
   "execution_count": 1,
   "metadata": {},
   "outputs": [
    {
     "name": "stderr",
     "output_type": "stream",
     "text": [
      "[*********************100%%**********************]  4 of 4 completed\n"
     ]
    },
    {
     "name": "stdout",
     "output_type": "stream",
     "text": [
      "Expected annual return: 39.2%\n",
      "Annual volatility: 38.8%\n",
      "Sharpe Ratio: 0.96\n"
     ]
    },
    {
     "name": "stderr",
     "output_type": "stream",
     "text": [
      "[*********************100%%**********************]  4 of 4 completed\n"
     ]
    },
    {
     "name": "stdout",
     "output_type": "stream",
     "text": [
      "Expected annual return: 12.3%\n",
      "Annual volatility: 29.0%\n",
      "Sharpe Ratio: 0.35\n"
     ]
    }
   ],
   "source": [
    "# Configuration section\n",
    "import yfinance as yf\n",
    "import pandas as pd\n",
    "from pypfopt.efficient_frontier import EfficientFrontier\n",
    "from pypfopt import risk_models, expected_returns\n",
    "import tkinter as tk\n",
    "from tkinter import messagebox, ttk\n",
    "import re\n",
    "from datetime import datetime\n",
    "\n",
    "# Configuration settings (if any)\n",
    "# e.g., default values, constants\n",
    "\n",
    "# Utility functions\n",
    "def validate_date(date_text):\n",
    "    \"\"\"Validate date format.\"\"\"\n",
    "    return re.match(r'\\d{4}-\\d{2}-\\d{2}', date_text) is not None\n",
    "\n",
    "def perform_optimization(tickers, start_date, end_date):\n",
    "    \"\"\"Perform portfolio optimization.\"\"\"\n",
    "    # Fetch stock data\n",
    "    data = yf.download(tickers, start=start_date, end=end_date)['Adj Close']\n",
    "    \n",
    "    if data.empty:\n",
    "        raise ValueError(\"No data fetched. Please check your ticker symbols and date range.\")\n",
    "    \n",
    "    returns = data.pct_change().dropna()\n",
    "    \n",
    "    # Calculate expected returns and covariance matrix\n",
    "    mu = expected_returns.mean_historical_return(data)\n",
    "    S = risk_models.sample_cov(data)\n",
    "    \n",
    "    # Optimize portfolio\n",
    "    ef = EfficientFrontier(mu, S)\n",
    "    weights = ef.max_sharpe()\n",
    "    cleaned_weights = ef.clean_weights()\n",
    "    ef.portfolio_performance(verbose=True)\n",
    "    \n",
    "    return cleaned_weights\n",
    "\n",
    "# Main application logic\n",
    "def optimize_portfolio():\n",
    "    \"\"\"Handle the portfolio optimization process.\"\"\"\n",
    "    tickers = tickers_entry.get().split(',')\n",
    "    start_date = start_date_entry.get()\n",
    "    end_date = end_date_entry.get()\n",
    "    \n",
    "    if not validate_date(start_date) or not validate_date(end_date):\n",
    "        messagebox.showerror(\"Error\", \"Invalid date format. Please use YYYY-MM-DD.\")\n",
    "        return\n",
    "    \n",
    "    try:\n",
    "        start_date_dt = datetime.strptime(start_date, '%Y-%m-%d')\n",
    "        end_date_dt = datetime.strptime(end_date, '%Y-%m-%d')\n",
    "        \n",
    "        result_text.set(\"Optimizing...\")  # Indicate the process has started\n",
    "        root.update_idletasks()  # Update the GUI\n",
    "        \n",
    "        weights = perform_optimization(tickers, start_date_dt, end_date_dt)\n",
    "        result_text.set(f\"Optimized Portfolio Weights: {weights}\")\n",
    "    except Exception as e:\n",
    "        messagebox.showerror(\"Error\", str(e))\n",
    "\n",
    "# Set up the GUI\n",
    "root = tk.Tk()\n",
    "root.title(\"Portfolio Optimizer\")\n",
    "\n",
    "style = ttk.Style(root)\n",
    "style.theme_use('clam')  # Use a modern theme\n",
    "\n",
    "tk.Label(root, text=\"Tickers (comma-separated):\").grid(row=0, column=0)\n",
    "tickers_entry = tk.Entry(root)\n",
    "tickers_entry.grid(row=0, column=1)\n",
    "\n",
    "tk.Label(root, text=\"Start Date (YYYY-MM-DD):\").grid(row=1, column=0)\n",
    "start_date_entry = tk.Entry(root)\n",
    "start_date_entry.grid(row=1, column=1)\n",
    "\n",
    "tk.Label(root, text=\"End Date (YYYY-MM-DD):\").grid(row=2, column=0)\n",
    "end_date_entry = tk.Entry(root)\n",
    "end_date_entry.grid(row=2, column=1)\n",
    "\n",
    "optimize_button = tk.Button(root, text=\"Optimize\", command=optimize_portfolio)\n",
    "optimize_button.grid(row=3, column=0, columnspan=2)\n",
    "\n",
    "result_text = tk.StringVar()\n",
    "tk.Label(root, textvariable=result_text, wraplength=400).grid(row=4, column=0, columnspan=2)\n",
    "\n",
    "root.mainloop()\n"
   ]
  }
 ],
 "metadata": {
  "kernelspec": {
   "display_name": "base",
   "language": "python",
   "name": "python3"
  },
  "language_info": {
   "codemirror_mode": {
    "name": "ipython",
    "version": 3
   },
   "file_extension": ".py",
   "mimetype": "text/x-python",
   "name": "python",
   "nbconvert_exporter": "python",
   "pygments_lexer": "ipython3",
   "version": "3.11.5"
  }
 },
 "nbformat": 4,
 "nbformat_minor": 2
}
